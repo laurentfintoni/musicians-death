{
 "cells": [
  {
   "cell_type": "code",
   "execution_count": 1,
   "metadata": {},
   "outputs": [],
   "source": [
    "#IMPORTS AND PATH\n",
    "import pandas as pd\n",
    "path = './'"
   ]
  },
  {
   "cell_type": "markdown",
   "metadata": {},
   "source": [
    "***\n",
    "\n",
    "CREATE DATAFRAMES FROM JSON DUMPS "
   ]
  },
  {
   "cell_type": "code",
   "execution_count": 51,
   "metadata": {},
   "outputs": [],
   "source": [
    "#load the json to DF\n",
    "alvin_df = pd.read_json('JSON_TWITTER_DUMPS/alvin_lucier_noRT.json')\n",
    "#normalize the public metrics and entities fields to their own columns\n",
    "alvin_df = alvin_df.join(pd.json_normalize(alvin_df['public_metrics']), how='left')\n",
    "alvin_df = alvin_df.join(pd.json_normalize(alvin_df['entities']), how='left')\n",
    "#drop the normalized columns\n",
    "alvin_df = alvin_df.drop(['public_metrics', 'entities'], axis=1)\n",
    "#rename columns for ease of reference\n",
    "alvin_df = alvin_df.rename(columns={'created_at': 'tweet date', 'id': 'tweet_id', 'lang': 'tweet_lang', 'reply_settings': 'tweet_reply'})\n",
    "#normalize author to its own columns, drop duplicates/unneeded cols \n",
    "author = pd.json_normalize(alvin_df['author'])\n",
    "author = author.drop(['url', 'public_metrics.listed_count', 'id'], axis=1)\n",
    "author = author.rename(columns={'description': 'author_desc', 'name': 'display_name', 'public_metrics.followers_count': 'followers', 'public_metrics.following_count': 'following', 'public_metrics.tweet_count': 'tweets count', 'location': 'author_location'})\n",
    "alvin_df = alvin_df.join(author, how='left')\n",
    "alvin_df = alvin_df.drop(['author'], axis=1)\n",
    "#reorder columns & drop dupes\n",
    "alvin_df = alvin_df[['author_id', 'username', 'display_name', 'author_desc', 'author_location', 'followers', 'following', 'tweets count', 'tweet date', 'tweet_id', 'tweet_lang', 'tweet_reply', 'text', 'retweet_count', 'reply_count', 'like_count', 'quote_count', 'in_reply_to_user_id', 'referenced_tweets', 'geo', 'annotations', 'urls', 'mentions', 'hashtags']]\n",
    "alvin_df = alvin_df.drop_duplicates(['text'], keep='last').reset_index(drop=True)\n",
    "#export to pickle + csv \n",
    "alvin_df.to_pickle('/Users/laurentfintoni/Desktop/University/COURSE DOCS/YEAR 2/WEB SCIENCES/musicians-death/JSON_TWITTER_DUMPS/Pickles/alvin_lucier_noRT.pkl')\n",
    "alvin_df.to_csv('/Users/laurentfintoni/Desktop/University/COURSE DOCS/YEAR 2/WEB SCIENCES/musicians-death/JSON_TWITTER_DUMPS/CSVs/alvin_lucier_noRT.csv')"
   ]
  },
  {
   "cell_type": "code",
   "execution_count": 58,
   "metadata": {},
   "outputs": [],
   "source": [
    "#load the json to DF\n",
    "betty_df = pd.read_json('JSON_TWITTER_DUMPS/betty_davis_noRT_full.json')\n",
    "#normalize the public metrics and entities fields to their own columns\n",
    "betty_df = betty_df.join(pd.json_normalize(betty_df['public_metrics']), how='left')\n",
    "betty_df = betty_df.join(pd.json_normalize(betty_df['entities']), how='left')\n",
    "#drop the normalized columns\n",
    "betty_df = betty_df.drop(['public_metrics', 'entities'], axis=1)\n",
    "#rename columns for ease of reference\n",
    "betty_df = betty_df.rename(columns={'created_at': 'tweet date', 'id': 'tweet_id', 'lang': 'tweet_lang', 'reply_settings': 'tweet_reply'})\n",
    "#normalize author to its own columns, drop duplicates/unneeded cols \n",
    "author = pd.json_normalize(betty_df['author'])\n",
    "author = author.drop(['url', 'public_metrics.listed_count', 'id'], axis=1)\n",
    "author = author.rename(columns={'description': 'author_desc', 'name': 'display_name', 'public_metrics.followers_count': 'followers', 'public_metrics.following_count': 'following', 'public_metrics.tweet_count': 'tweets count', 'location': 'author_location'})\n",
    "betty_df = betty_df.join(author, how='left')\n",
    "betty_df = betty_df.drop(['author', 'withheld.country_codes'], axis=1)\n",
    "#reorder columns & drop dupes\n",
    "betty_df = betty_df[['author_id', 'username', 'display_name', 'author_desc', 'author_location', 'followers', 'following', 'tweets count', 'tweet date', 'tweet_id', 'tweet_lang', 'tweet_reply', 'text', 'retweet_count', 'reply_count', 'like_count', 'quote_count', 'in_reply_to_user_id', 'referenced_tweets', 'geo', 'annotations', 'urls', 'mentions', 'hashtags']]\n",
    "betty_df = betty_df.drop_duplicates(['text'], keep='last').reset_index(drop=True)\n",
    "#export to pickle + csv \n",
    "betty_df.to_pickle('/Users/laurentfintoni/Desktop/University/COURSE DOCS/YEAR 2/WEB SCIENCES/musicians-death/JSON_TWITTER_DUMPS/Pickles/betty_davis_noRT.pkl')\n",
    "betty_df.to_csv('/Users/laurentfintoni/Desktop/University/COURSE DOCS/YEAR 2/WEB SCIENCES/musicians-death/JSON_TWITTER_DUMPS/CSVs/betty_davis_noRT.csv')"
   ]
  },
  {
   "cell_type": "code",
   "execution_count": 41,
   "metadata": {},
   "outputs": [],
   "source": [
    "#load the json to DF\n",
    "kelli_df_1 = pd.read_json('JSON_TWITTER_DUMPS/K_Hand_noRT_full.json')\n",
    "kelli_df_2 = pd.read_json('JSON_TWITTER_DUMPS/Kelli_Hand_noRT_full.json')\n",
    "kelli_df_3 = pd.read_json('JSON_TWITTER_DUMPS/KHand_noRT_full.json')\n",
    "kelli_df = pd.concat([kelli_df_1, kelli_df_2, kelli_df_3])\n",
    "#normalize the public metrics and entities fields to their own columns\n",
    "kelli_df = kelli_df.join(pd.json_normalize(kelli_df['public_metrics']), how='left')\n",
    "kelli_df = kelli_df.join(pd.json_normalize(kelli_df['entities']), how='left')\n",
    "#drop the normalized columns\n",
    "kelli_df = kelli_df.drop(['public_metrics', 'entities'], axis=1)\n",
    "#rename columns for ease of reference\n",
    "kelli_df = kelli_df.rename(columns={'created_at': 'tweet date', 'id': 'tweet_id', 'lang': 'tweet_lang', 'reply_settings': 'tweet_reply'})\n",
    "#normalize author to its own columns, drop duplicates/unneeded cols \n",
    "author = pd.json_normalize(kelli_df['author'])\n",
    "author = author.drop(['url', 'public_metrics.listed_count', 'id'], axis=1)\n",
    "author = author.rename(columns={'description': 'author_desc', 'name': 'display_name', 'public_metrics.followers_count': 'followers', 'public_metrics.following_count': 'following', 'public_metrics.tweet_count': 'tweets count', 'location': 'author_location'})\n",
    "kelli_df = kelli_df.join(author, how='left')\n",
    "kelli_df = kelli_df.drop(['author'], axis=1)\n",
    "#reorder columns and drops dupes\n",
    "kelli_df = kelli_df[['author_id', 'username', 'display_name', 'author_desc', 'author_location', 'followers', 'following', 'tweets count', 'tweet date', 'tweet_id', 'tweet_lang', 'tweet_reply', 'text', 'retweet_count', 'reply_count', 'like_count', 'quote_count', 'in_reply_to_user_id', 'referenced_tweets', 'geo', 'annotations', 'urls', 'mentions', 'hashtags']]\n",
    "kelli_df = kelli_df.drop_duplicates(['text'], keep='last').reset_index(drop=True)\n",
    "#export to pickle + csv \n",
    "kelli_df.to_pickle('/Users/laurentfintoni/Desktop/University/COURSE DOCS/YEAR 2/WEB SCIENCES/musicians-death/JSON_TWITTER_DUMPS/Pickles/kelli_hand_noRT.pkl')\n",
    "kelli_df.to_csv('/Users/laurentfintoni/Desktop/University/COURSE DOCS/YEAR 2/WEB SCIENCES/musicians-death/JSON_TWITTER_DUMPS/CSVs/kelli_hand_noRT.csv')"
   ]
  },
  {
   "cell_type": "code",
   "execution_count": 52,
   "metadata": {},
   "outputs": [],
   "source": [
    "#load the json to DF\n",
    "drakeo_df = pd.read_json('JSON_TWITTER_DUMPS/drakeo_no_RT.json')\n",
    "#normalize the public metrics and entities fields to their own columns\n",
    "drakeo_df = drakeo_df.join(pd.json_normalize(drakeo_df['public_metrics']), how='left')\n",
    "drakeo_df = drakeo_df.join(pd.json_normalize(drakeo_df['entities']), how='left')\n",
    "#drop the normalized columns\n",
    "drakeo_df = drakeo_df.drop(['public_metrics', 'entities'], axis=1)\n",
    "#rename columns for ease of reference\n",
    "drakeo_df = drakeo_df.rename(columns={'created_at': 'tweet date', 'id': 'tweet_id', 'lang': 'tweet_lang', 'reply_settings': 'tweet_reply'})\n",
    "#normalize author to its own columns, drop duplicates/unneeded cols \n",
    "author = pd.json_normalize(drakeo_df['author'])\n",
    "author = author.drop(['url', 'public_metrics.listed_count', 'id'], axis=1)\n",
    "author = author.rename(columns={'description': 'author_desc', 'name': 'display_name', 'public_metrics.followers_count': 'followers', 'public_metrics.following_count': 'following', 'public_metrics.tweet_count': 'tweets count', 'location': 'author_location'})\n",
    "drakeo_df = drakeo_df.join(author, how='left')\n",
    "drakeo_df = drakeo_df.drop(['author', 'withheld.country_codes'], axis=1)\n",
    "#reorder columns & drop dupes\n",
    "drakeo_df = drakeo_df[['author_id', 'username', 'display_name', 'author_desc', 'author_location', 'followers', 'following', 'tweets count', 'tweet date', 'tweet_id', 'tweet_lang', 'tweet_reply', 'text', 'retweet_count', 'reply_count', 'like_count', 'quote_count', 'in_reply_to_user_id', 'referenced_tweets', 'geo', 'annotations', 'urls', 'mentions', 'hashtags']]\n",
    "drakeo_df = drakeo_df.drop_duplicates(['text'], keep='last').reset_index(drop=True)\n",
    "#export to pickle + csv \n",
    "drakeo_df.to_pickle('/Users/laurentfintoni/Desktop/University/COURSE DOCS/YEAR 2/WEB SCIENCES/musicians-death/JSON_TWITTER_DUMPS/Pickles/drakeo_noRT.pkl')\n",
    "drakeo_df.to_csv('/Users/laurentfintoni/Desktop/University/COURSE DOCS/YEAR 2/WEB SCIENCES/musicians-death/JSON_TWITTER_DUMPS/CSVs/drakeo_noRT.csv')"
   ]
  },
  {
   "cell_type": "markdown",
   "metadata": {},
   "source": [
    "***\n",
    "\n",
    "CLEAN MENTIONS, ANNOTATIONS, URLS, HASHTAGS FOR VIZ"
   ]
  },
  {
   "cell_type": "code",
   "execution_count": 2,
   "metadata": {},
   "outputs": [],
   "source": [
    "#load needed DF \n",
    "alvin_df = pd.read_pickle('/Users/laurentfintoni/Desktop/University/COURSE DOCS/YEAR 2/WEB SCIENCES/musicians-death/JSON_TWITTER_DUMPS/Pickles/alvin_lucier_noRT.pkl')\n",
    "\n",
    "#fill missing values\n",
    "alvin_df = alvin_df.fillna('[]')"
   ]
  },
  {
   "cell_type": "code",
   "execution_count": 4,
   "metadata": {},
   "outputs": [],
   "source": [
    "#load cleaning functions \n",
    "def clean_mentions(x):\n",
    "    if x != '[]':\n",
    "        new_x = []\n",
    "        for i in x:\n",
    "            new_x.append(i['username'])\n",
    "            x = new_x\n",
    "            x = ', '.join(x)\n",
    "    else:\n",
    "        x = x\n",
    "    return x\n",
    "\n",
    "def clean_annotations(x):\n",
    "    if x != '[]':\n",
    "        new_x = []\n",
    "        for i in x:\n",
    "            new_x.append(i['normalized_text'])\n",
    "            x = new_x\n",
    "            x = ', '.join(x)\n",
    "    else:\n",
    "        x = x\n",
    "    return x\n",
    "\n",
    "def clean_urls(x):\n",
    "    if x != '[]':\n",
    "        new_x = []\n",
    "        for i in x:\n",
    "            new_x.append(i['expanded_url'])\n",
    "            x = new_x\n",
    "            x = ', '.join(x)\n",
    "    else:\n",
    "        x = x\n",
    "    return x\n",
    "\n",
    "def clean_tags(x):\n",
    "    if x != '[]':\n",
    "        new_x = []\n",
    "        for i in x:\n",
    "            new_x.append(i['tag'])\n",
    "            x = new_x\n",
    "            x = ', '.join(x)\n",
    "    else:\n",
    "        x = x\n",
    "    return x"
   ]
  },
  {
   "cell_type": "code",
   "execution_count": 5,
   "metadata": {},
   "outputs": [],
   "source": [
    "#create new columns and clean data \n",
    "alvin_df['clean_mentions'] = [clean_mentions(x) for x in alvin_df['mentions']]\n",
    "alvin_df['clean_annotations'] = [clean_annotations(x) for x in alvin_df['annotations']]\n",
    "alvin_df['clean_urls'] = [clean_urls(x) for x in alvin_df['urls']]\n",
    "alvin_df['clean_hashtags'] = [clean_tags(x) for x in alvin_df['hashtags']]"
   ]
  },
  {
   "cell_type": "code",
   "execution_count": 14,
   "metadata": {},
   "outputs": [],
   "source": [
    "#optional - remove all entries that don't have a specific value \n",
    "clean_alvin = alvin_df.loc[alvin_df['hashtags'] != '[]']"
   ]
  },
  {
   "cell_type": "code",
   "execution_count": null,
   "metadata": {},
   "outputs": [],
   "source": [
    "#optional - remove duplicate entries based on username \n",
    "clean_alvin = clean_alvin.drop_duplicates(subset=['username'], keep='last')\n"
   ]
  },
  {
   "cell_type": "code",
   "execution_count": 16,
   "metadata": {},
   "outputs": [],
   "source": [
    "#export new versions of DF\n",
    "clean_alvin.to_pickle('/Users/laurentfintoni/Desktop/University/COURSE DOCS/YEAR 2/WEB SCIENCES/musicians-death/Pickles/alvin_lucier_noRT_clean.pkl')\n",
    "clean_alvin.to_csv('/Users/laurentfintoni/Desktop/University/COURSE DOCS/YEAR 2/WEB SCIENCES/musicians-death/CSVs/alvin_lucier_noRT_clean.csv')"
   ]
  }
 ],
 "metadata": {
  "interpreter": {
   "hash": "aee8b7b246df8f9039afb4144a1f6fd8d2ca17a180786b69acc140d282b71a49"
  },
  "kernelspec": {
   "display_name": "Python 3.10.4 64-bit",
   "language": "python",
   "name": "python3"
  },
  "language_info": {
   "codemirror_mode": {
    "name": "ipython",
    "version": 3
   },
   "file_extension": ".py",
   "mimetype": "text/x-python",
   "name": "python",
   "nbconvert_exporter": "python",
   "pygments_lexer": "ipython3",
   "version": "3.10.4"
  },
  "orig_nbformat": 4
 },
 "nbformat": 4,
 "nbformat_minor": 2
}
