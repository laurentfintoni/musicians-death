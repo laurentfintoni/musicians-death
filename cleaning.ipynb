{
 "cells": [
  {
   "cell_type": "code",
   "execution_count": 1,
   "metadata": {},
   "outputs": [],
   "source": [
    "import pandas as pd\n",
    "\n",
    "test = pd.read_json('/Users/laurentfintoni/Downloads/virgil_abloh_noRT.json')\n",
    "test = test.join(pd.json_normalize(test['public_metrics']), how='left')\n",
    "test = test.join(pd.json_normalize(test['entities']), how='left')\n",
    "author = pd.json_normalize(test['author'])\n",
    "author = author.drop(['url', 'public_metrics.listed_count', 'withheld.country_codes', 'withheld.scope', 'id'], axis=1)\n",
    "author = author.rename(columns={'description': 'author_desc', 'name': 'display_name', 'public_metrics.followers_count': 'followers', 'public_metrics.following_count': 'following', 'public_metrics.tweet_count': 'tweets count', 'location': 'author_location'})\n",
    "test = test.join(author, how='left')\n",
    "test = test.drop(['public_metrics', 'entities', 'author'], axis=1)\n"
   ]
  },
  {
   "cell_type": "code",
   "execution_count": 8,
   "metadata": {},
   "outputs": [
    {
     "data": {
      "text/plain": [
       "id                                                   1465108192019435520\n",
       "text                   Virgil Abloh was described by in his NYT obit ...\n",
       "reply_settings                                                  everyone\n",
       "author_id                                                       18377624\n",
       "created_at                                     2021-11-28 23:59:48+00:00\n",
       "lang                                                                  en\n",
       "in_reply_to_user_id                                                  NaN\n",
       "referenced_tweets                                                    NaN\n",
       "geo                                                                  NaN\n",
       "withheld                                                             NaN\n",
       "retweet_count                                                          1\n",
       "reply_count                                                            1\n",
       "like_count                                                            14\n",
       "quote_count                                                            1\n",
       "annotations            [{'start': 0, 'end': 11, 'probability': 0.9899...\n",
       "mentions                                                             NaN\n",
       "urls                                                                 NaN\n",
       "hashtags                                                             NaN\n",
       "cashtags                                                             NaN\n",
       "username                                                   BritniDWrites\n",
       "author_desc            Writer. Editor. #SGRho. Founder https://t.co/l...\n",
       "display_name                                             Britni Danielle\n",
       "followers                                                          34068\n",
       "following                                                           1270\n",
       "tweets count                                                      164563\n",
       "author_location                                South Central Los Angeles\n",
       "Name: 2, dtype: object"
      ]
     },
     "execution_count": 8,
     "metadata": {},
     "output_type": "execute_result"
    }
   ],
   "source": [
    "test.iloc[2]"
   ]
  }
 ],
 "metadata": {
  "interpreter": {
   "hash": "aee8b7b246df8f9039afb4144a1f6fd8d2ca17a180786b69acc140d282b71a49"
  },
  "kernelspec": {
   "display_name": "Python 3.10.4 64-bit",
   "language": "python",
   "name": "python3"
  },
  "language_info": {
   "codemirror_mode": {
    "name": "ipython",
    "version": 3
   },
   "file_extension": ".py",
   "mimetype": "text/x-python",
   "name": "python",
   "nbconvert_exporter": "python",
   "pygments_lexer": "ipython3",
   "version": "3.10.4"
  },
  "orig_nbformat": 4
 },
 "nbformat": 4,
 "nbformat_minor": 2
}
